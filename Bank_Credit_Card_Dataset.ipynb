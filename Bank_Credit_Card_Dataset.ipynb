{
 "cells": [
  {
   "cell_type": "markdown",
   "id": "a6740aba",
   "metadata": {},
   "source": [
    "### The data for this exercise was obtained from Kaggle. We have feature information like age, zip code , family members, mortgage, etc. and we also have credit card information which is our target variable. Our goal in this exercise is to build a machine Learning model using binary tree to segregate our population into \"issue credit card\" vs \"non-issue of credit card\". "
   ]
  },
  {
   "cell_type": "code",
   "execution_count": 1,
   "id": "f916a199",
   "metadata": {},
   "outputs": [],
   "source": [
    "#Step 1: Import essential libraries\n",
    "import pandas as pd\n",
    "import numpy as np\n",
    "import matplotlib.pyplot as plt\n"
   ]
  },
  {
   "cell_type": "code",
   "execution_count": 3,
   "id": "76e9bc50",
   "metadata": {},
   "outputs": [],
   "source": [
    "#Step 2: import our datafile which is in the from of a csv file format.\n",
    "df=pd.read_csv('UniversalBank.csv')"
   ]
  },
  {
   "cell_type": "code",
   "execution_count": 4,
   "id": "ab5d9b51",
   "metadata": {},
   "outputs": [
    {
     "name": "stdout",
     "output_type": "stream",
     "text": [
      "<class 'pandas.core.frame.DataFrame'>\n",
      "RangeIndex: 5000 entries, 0 to 4999\n",
      "Data columns (total 14 columns):\n",
      " #   Column              Non-Null Count  Dtype  \n",
      "---  ------              --------------  -----  \n",
      " 0   ID                  5000 non-null   int64  \n",
      " 1   Age                 5000 non-null   int64  \n",
      " 2   Experience          5000 non-null   int64  \n",
      " 3   Income              5000 non-null   int64  \n",
      " 4   ZIP Code            5000 non-null   int64  \n",
      " 5   Family              5000 non-null   int64  \n",
      " 6   CCAvg               5000 non-null   float64\n",
      " 7   Education           5000 non-null   int64  \n",
      " 8   Mortgage            5000 non-null   int64  \n",
      " 9   Personal Loan       5000 non-null   int64  \n",
      " 10  Securities Account  5000 non-null   int64  \n",
      " 11  CD Account          5000 non-null   int64  \n",
      " 12  Online              5000 non-null   int64  \n",
      " 13  CreditCard          5000 non-null   int64  \n",
      "dtypes: float64(1), int64(13)\n",
      "memory usage: 547.0 KB\n"
     ]
    }
   ],
   "source": [
    "#Step 3: understand our data first, before we can start to clean it.\n",
    "\n",
    "df.info()"
   ]
  },
  {
   "cell_type": "markdown",
   "id": "002419c5",
   "metadata": {},
   "source": [
    "#### Our dataframe has 14 variables. CreditCard is our target class while others are features."
   ]
  },
  {
   "cell_type": "code",
   "execution_count": 11,
   "id": "5e50a940",
   "metadata": {},
   "outputs": [],
   "source": [
    "#### Let us clean our data by removing Zip code and ID.\n",
    "\n",
    "df.drop(['ID','ZIP Code'],axis=1,inplace=True)"
   ]
  },
  {
   "cell_type": "code",
   "execution_count": 12,
   "id": "4572fdcf",
   "metadata": {},
   "outputs": [
    {
     "name": "stdout",
     "output_type": "stream",
     "text": [
      "<class 'pandas.core.frame.DataFrame'>\n",
      "RangeIndex: 5000 entries, 0 to 4999\n",
      "Data columns (total 12 columns):\n",
      " #   Column              Non-Null Count  Dtype  \n",
      "---  ------              --------------  -----  \n",
      " 0   Age                 5000 non-null   int64  \n",
      " 1   Experience          5000 non-null   int64  \n",
      " 2   Income              5000 non-null   int64  \n",
      " 3   Family              5000 non-null   int64  \n",
      " 4   CCAvg               5000 non-null   float64\n",
      " 5   Education           5000 non-null   int64  \n",
      " 6   Mortgage            5000 non-null   int64  \n",
      " 7   Personal Loan       5000 non-null   int64  \n",
      " 8   Securities Account  5000 non-null   int64  \n",
      " 9   CD Account          5000 non-null   int64  \n",
      " 10  Online              5000 non-null   int64  \n",
      " 11  CreditCard          5000 non-null   int64  \n",
      "dtypes: float64(1), int64(11)\n",
      "memory usage: 468.9 KB\n"
     ]
    }
   ],
   "source": [
    "df.info()"
   ]
  },
  {
   "cell_type": "markdown",
   "id": "374a24a3",
   "metadata": {},
   "source": [
    "### Although the zip code is numeric, we don't acheive any value unless we have other data that correlates to Zip code. "
   ]
  },
  {
   "cell_type": "markdown",
   "id": "4d21083c",
   "metadata": {},
   "source": [
    "#### Let us also check for NA before we beging with our analysis"
   ]
  },
  {
   "cell_type": "code",
   "execution_count": 14,
   "id": "e65a1386",
   "metadata": {},
   "outputs": [
    {
     "data": {
      "text/plain": [
       "Age                   0\n",
       "Experience            0\n",
       "Income                0\n",
       "Family                0\n",
       "CCAvg                 0\n",
       "Education             0\n",
       "Mortgage              0\n",
       "Personal Loan         0\n",
       "Securities Account    0\n",
       "CD Account            0\n",
       "Online                0\n",
       "CreditCard            0\n",
       "dtype: int64"
      ]
     },
     "execution_count": 14,
     "metadata": {},
     "output_type": "execute_result"
    }
   ],
   "source": [
    "df.isna().sum()"
   ]
  },
  {
   "cell_type": "markdown",
   "id": "f5b3fe0b",
   "metadata": {},
   "source": [
    "### Before we begin our analysis, let's standardize the dataset using StandardScaler library"
   ]
  },
  {
   "cell_type": "code",
   "execution_count": 15,
   "id": "d9458961",
   "metadata": {},
   "outputs": [],
   "source": [
    "from sklearn.preprocessing import StandardScaler\n",
    "scaler = StandardScaler()\n",
    "\n",
    "df_scaled = scaler.fit_transform(df)"
   ]
  },
  {
   "cell_type": "code",
   "execution_count": 24,
   "id": "97f0f4f8",
   "metadata": {},
   "outputs": [
    {
     "data": {
      "text/plain": [
       "(5000, 12)"
      ]
     },
     "execution_count": 24,
     "metadata": {},
     "output_type": "execute_result"
    }
   ],
   "source": [
    "df_scaled.shape"
   ]
  },
  {
   "cell_type": "code",
   "execution_count": 30,
   "id": "de826b44",
   "metadata": {},
   "outputs": [],
   "source": [
    "X=pd.DataFrame(data=df_scaled[:,:-1])"
   ]
  },
  {
   "cell_type": "code",
   "execution_count": 34,
   "id": "c74b7879",
   "metadata": {},
   "outputs": [],
   "source": [
    "y=df['CreditCard']"
   ]
  },
  {
   "cell_type": "code",
   "execution_count": 40,
   "id": "41bf292c",
   "metadata": {},
   "outputs": [
    {
     "data": {
      "text/plain": [
       "(5000, 11)"
      ]
     },
     "execution_count": 40,
     "metadata": {},
     "output_type": "execute_result"
    }
   ],
   "source": []
  },
  {
   "cell_type": "markdown",
   "id": "75d3a122",
   "metadata": {},
   "source": [
    "### let us now divide our dataset into training vs testing dataset. "
   ]
  },
  {
   "cell_type": "code",
   "execution_count": 41,
   "id": "214d5ee4",
   "metadata": {},
   "outputs": [],
   "source": [
    "# Train test split\n",
    "from sklearn.model_selection import train_test_split\n",
    "X_train, X_test, y_train, y_test=train_test_split(X,y,test_size=0.5, random_state=11)"
   ]
  },
  {
   "cell_type": "markdown",
   "id": "10458700",
   "metadata": {},
   "source": [
    "### We now build a Decision Tree model for classification"
   ]
  },
  {
   "cell_type": "code",
   "execution_count": 44,
   "id": "92893dfe",
   "metadata": {},
   "outputs": [
    {
     "data": {
      "text/plain": [
       "DecisionTreeClassifier(max_depth=5)"
      ]
     },
     "execution_count": 44,
     "metadata": {},
     "output_type": "execute_result"
    }
   ],
   "source": [
    "#building decision tree model to classify the data\n",
    "\n",
    "from sklearn.tree import DecisionTreeClassifier\n",
    "dtc = DecisionTreeClassifier(criterion='gini', max_depth=5)\n",
    "dtc.fit(X_train,y_train)"
   ]
  },
  {
   "cell_type": "markdown",
   "id": "4a2502cb",
   "metadata": {},
   "source": [
    "### Let us now check the accuracy of our model"
   ]
  },
  {
   "cell_type": "code",
   "execution_count": 46,
   "id": "bce225fa",
   "metadata": {},
   "outputs": [
    {
     "name": "stdout",
     "output_type": "stream",
     "text": [
      "              precision    recall  f1-score   support\n",
      "\n",
      "           0       0.74      0.98      0.84      1784\n",
      "           1       0.72      0.14      0.23       716\n",
      "\n",
      "    accuracy                           0.74      2500\n",
      "   macro avg       0.73      0.56      0.54      2500\n",
      "weighted avg       0.73      0.74      0.67      2500\n",
      "\n"
     ]
    }
   ],
   "source": [
    "y_predicted = dtc.predict(X_test)\n",
    "from sklearn.metrics import  classification_report\n",
    "print(classification_report(y_test,y_predicted))"
   ]
  },
  {
   "cell_type": "markdown",
   "id": "1c3cdf83",
   "metadata": {},
   "source": [
    "### Let us visualize how many we got right vs wrong with the decision tree we implemented."
   ]
  },
  {
   "cell_type": "code",
   "execution_count": 47,
   "id": "d373bcce",
   "metadata": {},
   "outputs": [
    {
     "data": {
      "image/png": "[encoded data removed]",
      "text/plain": [
       "<Figure size 432x288 with 2 Axes>"
      ]
     },
     "metadata": {
      "needs_background": "light"
     },
     "output_type": "display_data"
    }
   ],
   "source": [
    "from sklearn import metrics\n",
    "\n",
    "confusion_matrix = metrics.confusion_matrix(y_test, y_predicted)\n",
    "\n",
    "cm_display = metrics.ConfusionMatrixDisplay(confusion_matrix = confusion_matrix, display_labels = [False, True])\n",
    "\n",
    "cm_display.plot()\n",
    "plt.show()"
   ]
  },
  {
   "cell_type": "markdown",
   "id": "82b4eb25",
   "metadata": {},
   "source": [
    "### It looks like we predicted 619 data points as False while the true label was true. \n",
    "### Our model is good at predicting False labels as compared to True labels."
   ]
  },
  {
   "cell_type": "markdown",
   "id": "e59c9e7d",
   "metadata": {},
   "source": [
    "## Improvement to our model"
   ]
  },
  {
   "cell_type": "markdown",
   "id": "b94d53d8",
   "metadata": {},
   "source": [
    "### One of the thing we can do is increase our levels (max_depth). Originally it was 5, it's try 50 this time."
   ]
  },
  {
   "cell_type": "code",
   "execution_count": 54,
   "id": "17c31ee2",
   "metadata": {},
   "outputs": [
    {
     "data": {
      "text/plain": [
       "DecisionTreeClassifier(max_depth=20)"
      ]
     },
     "execution_count": 54,
     "metadata": {},
     "output_type": "execute_result"
    }
   ],
   "source": [
    "dtc_new = DecisionTreeClassifier(criterion='gini', max_depth=20)\n",
    "dtc_new.fit(X_train,y_train)"
   ]
  },
  {
   "cell_type": "code",
   "execution_count": 55,
   "id": "e66b62cf",
   "metadata": {},
   "outputs": [
    {
     "name": "stdout",
     "output_type": "stream",
     "text": [
      "              precision    recall  f1-score   support\n",
      "\n",
      "           0       0.74      0.73      0.74      1784\n",
      "           1       0.35      0.36      0.36       716\n",
      "\n",
      "    accuracy                           0.63      2500\n",
      "   macro avg       0.55      0.55      0.55      2500\n",
      "weighted avg       0.63      0.63      0.63      2500\n",
      "\n"
     ]
    }
   ],
   "source": [
    "y_predicted_new = dtc_new.predict(X_test)\n",
    "from sklearn.metrics import  classification_report\n",
    "print(classification_report(y_test,y_predicted_new))"
   ]
  },
  {
   "cell_type": "code",
   "execution_count": 56,
   "id": "645ea51e",
   "metadata": {},
   "outputs": [
    {
     "data": {
      "image/png": "[encoded data removed]",
      "text/plain": [
       "<Figure size 432x288 with 2 Axes>"
      ]
     },
     "metadata": {
      "needs_background": "light"
     },
     "output_type": "display_data"
    }
   ],
   "source": [
    "confusion_matrix = metrics.confusion_matrix(y_test, y_predicted_new)\n",
    "\n",
    "cm_display = metrics.ConfusionMatrixDisplay(confusion_matrix = confusion_matrix, display_labels = [False, True])\n",
    "\n",
    "cm_display.plot()\n",
    "plt.show()"
   ]
  },
  {
   "cell_type": "markdown",
   "id": "67b2fd71",
   "metadata": {},
   "source": [
    "### We increased our depth from 5 to 20 yet saw in decline in accuracy from 74% to 63%. "
   ]
  },
  {
   "cell_type": "markdown",
   "id": "b07cadb0",
   "metadata": {},
   "source": [
    "### A deeper tree can fit more complicated functions. Therefore, increasing tree depth should increase performance on the training set. But, increased flexibility also gives greater ability to overfit the data, and generalization performance may suffer if depth is increased too far (i.e. test set performance may decrease). "
   ]
  },
  {
   "cell_type": "markdown",
   "id": "c095785e",
   "metadata": {},
   "source": [
    "## Let us try fine tuning the hyperparameter for the decision tree i've implemented"
   ]
  },
  {
   "cell_type": "code",
   "execution_count": 60,
   "id": "3f1fcb37",
   "metadata": {},
   "outputs": [
    {
     "name": "stdout",
     "output_type": "stream",
     "text": [
      "              precision    recall  f1-score   support\n",
      "\n",
      "           0       0.74      0.90      0.81      1784\n",
      "           1       0.48      0.22      0.30       716\n",
      "\n",
      "    accuracy                           0.71      2500\n",
      "   macro avg       0.61      0.56      0.56      2500\n",
      "weighted avg       0.67      0.71      0.67      2500\n",
      "\n"
     ]
    },
    {
     "data": {
      "image/png": "[encoded data removed]",
      "text/plain": [
       "<Figure size 432x288 with 2 Axes>"
      ]
     },
     "metadata": {
      "needs_background": "light"
     },
     "output_type": "display_data"
    }
   ],
   "source": [
    "dtc_new_entropy = DecisionTreeClassifier(criterion='entropy', max_depth=12)\n",
    "dtc_new_entropy.fit(X_train,y_train)\n",
    "\n",
    "y_predicted_new_entropy = dtc_new_entropy.predict(X_test)\n",
    "from sklearn.metrics import  classification_report\n",
    "print(classification_report(y_test,y_predicted_new_entropy))\n",
    "\n",
    "confusion_matrix = metrics.confusion_matrix(y_test, y_predicted_new_entropy)\n",
    "\n",
    "cm_display = metrics.ConfusionMatrixDisplay(confusion_matrix = confusion_matrix, display_labels = [False, True])\n",
    "\n",
    "cm_display.plot()\n",
    "plt.show()"
   ]
  },
  {
   "cell_type": "markdown",
   "id": "6aaad81a",
   "metadata": {},
   "source": [
    "### Increasing our entropy did not results in much improvement. Our next step is to try Support Vector Classification to try and get an improvement. "
   ]
  },
  {
   "cell_type": "markdown",
   "id": "3da411b9",
   "metadata": {},
   "source": [
    "#building linear SVM to classify the data\n",
    "\n",
    "from sklearn.svm import SVC #\"Support vector classifier\"\n",
    "model = SVC(kernel='linear')\n",
    "model.fit(X_train,y_train)\n",
    "\n",
    "\n",
    "y_pred_svc = model.predict(X_test)\n",
    "\n",
    "print(classification_report(y_test,y_pred_svc))\n",
    "\n",
    "confusion_matrix = metrics.confusion_matrix(y_test, y_pred_svc)\n",
    "\n",
    "cm_display = metrics.ConfusionMatrixDisplay(confusion_matrix = confusion_matrix, display_labels = [False, True])\n",
    "\n",
    "cm_display.plot()\n",
    "plt.show()"
   ]
  },
  {
   "cell_type": "markdown",
   "id": "60e3dbe8",
   "metadata": {},
   "source": [
    "### Let us tune the hyperparameter by changing it from 'Linear' to 'Poly'. "
   ]
  },
  {
   "cell_type": "code",
   "execution_count": 67,
   "id": "bbf6952b",
   "metadata": {},
   "outputs": [
    {
     "name": "stdout",
     "output_type": "stream",
     "text": [
      "              precision    recall  f1-score   support\n",
      "\n",
      "           0       0.74      0.99      0.85      1784\n",
      "           1       0.88      0.14      0.24       716\n",
      "\n",
      "    accuracy                           0.75      2500\n",
      "   macro avg       0.81      0.57      0.55      2500\n",
      "weighted avg       0.78      0.75      0.68      2500\n",
      "\n"
     ]
    },
    {
     "data": {
      "image/png": "[encoded data removed]",
      "text/plain": [
       "<Figure size 432x288 with 2 Axes>"
      ]
     },
     "metadata": {
      "needs_background": "light"
     },
     "output_type": "display_data"
    }
   ],
   "source": [
    "#building linear SVM to classify the data\n",
    "\n",
    "from sklearn.svm import SVC #\"Support vector classifier\"\n",
    "model = SVC(kernel='poly')\n",
    "model.fit(X_train,y_train)\n",
    "\n",
    "\n",
    "y_pred_svc = model.predict(X_test)\n",
    "\n",
    "print(classification_report(y_test,y_pred_svc))\n",
    "\n",
    "confusion_matrix = metrics.confusion_matrix(y_test, y_pred_svc)\n",
    "\n",
    "cm_display = metrics.ConfusionMatrixDisplay(confusion_matrix = confusion_matrix, display_labels = [False, True])\n",
    "\n",
    "cm_display.plot()\n",
    "plt.show()"
   ]
  },
  {
   "cell_type": "markdown",
   "id": "228413f0",
   "metadata": {},
   "source": [
    "## In this notebook, we have successfully demonstrated the implementation of 2 supervised ML algorithms, Support Vector Classification (SVC) and Decision Tree (DT) to build a model to predict if a person qualifies for credit card or not. "
   ]
  },
  {
   "cell_type": "code",
   "execution_count": null,
   "id": "347e27bc",
   "metadata": {},
   "outputs": [],
   "source": []
  }
 ],
 "metadata": {
  "kernelspec": {
   "display_name": "Python 3 (ipykernel)",
   "language": "python",
   "name": "python3"
  },
  "language_info": {
   "codemirror_mode": {
    "name": "ipython",
    "version": 3
   },
   "file_extension": ".py",
   "mimetype": "text/x-python",
   "name": "python",
   "nbconvert_exporter": "python",
   "pygments_lexer": "ipython3",
   "version": "3.9.12"
  }
 },
 "nbformat": 4,
 "nbformat_minor": 5
}
